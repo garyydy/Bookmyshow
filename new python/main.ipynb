{
 "cells": [
  {
   "cell_type": "code",
   "execution_count": null,
   "id": "c554bac0",
   "metadata": {},
   "outputs": [
    {
     "name": "stdout",
     "output_type": "stream",
     "text": [
      "Enter the Number of Rows:4\n",
      "Enter the Number of Seats:5\n",
      "1: Show the Seats\n",
      "2: Buy a Ticket\n",
      "3: Statistics\n",
      "4: Show booked Tickets User Info\n",
      "0: Exit\n",
      "2\n",
      "Please enter the row no. you want to book: 3\n",
      "Please enter the column no. you want to book: 4\n",
      "10\n",
      "The Price of your ticket will be:  10\n",
      "Please Confirm to book your ticket Yes/NoYes\n",
      "Enter the Name: Aditya\n",
      "Enter your Sex: Male\n",
      "Enter your Age: 23\n",
      "Enter your Phone number: 9871080970\n",
      "CONGRATS!!! Booked Successfully\n",
      "1: Show the Seats\n",
      "2: Buy a Ticket\n",
      "3: Statistics\n",
      "4: Show booked Tickets User Info\n",
      "0: Exit\n"
     ]
    }
   ],
   "source": [
    "import time\n",
    "import theater1_info,user1_info\n",
    "\n",
    "user_input = 20\n",
    "s = theater1_info.seats()\n",
    "total_seats, no_of_rows, no_of_seats= s.capacity()\n",
    "st=theater1_info.statistics()\n",
    "total_seats_booked=0\n",
    "total_income = 0\n",
    "current_income=0\n",
    "\n",
    "while user_input != 0:\n",
    "    print(\"1: Show the Seats\\n2: Buy a Ticket\\n3: Statistics\\n4: Show booked Tickets User Info\\n0: Exit\")\n",
    "    user_input = int(input())\n",
    "\n",
    "    if user_input == 1:\n",
    "        s.show_the_seats()\n",
    "        time.sleep(2)\n",
    "\n",
    "    elif user_input == 2:\n",
    "        t = theater1_info.tickets()\n",
    "        if t.book_row<=no_of_rows and t.book_column<=no_of_seats :\n",
    "            b,current_income=t.buy_ticket(total_seats,no_of_rows,total_income,total_seats_booked)\n",
    "            if b != None:\n",
    "                total_income = total_income + current_income\n",
    "            if b == True:\n",
    "                total_seats_booked += 1\n",
    "        else:\n",
    "            print(\"you are trying to book the wrong seat\")\n",
    "\n",
    "        time.sleep(2)\n",
    "\n",
    "    elif user_input == 3:\n",
    "        t1=st.stats(total_seats_booked,total_seats,current_income,total_income)\n",
    "\n",
    "    elif user_input == 4:\n",
    "        u1=user1_info.user_info()\n",
    "\n",
    "        checkR = int(input(\"Enter the row you want to check: \"))\n",
    "        checkC = int(input(\"Enter the column you want to check: \"))\n",
    "        u1.booked_tickets_user_info(checkR, checkC,current_income)\n"
   ]
  },
  {
   "cell_type": "code",
   "execution_count": null,
   "id": "15536b5e",
   "metadata": {},
   "outputs": [],
   "source": []
  }
 ],
 "metadata": {
  "kernelspec": {
   "display_name": "Python 3 (ipykernel)",
   "language": "python",
   "name": "python3"
  },
  "language_info": {
   "codemirror_mode": {
    "name": "ipython",
    "version": 3
   },
   "file_extension": ".py",
   "mimetype": "text/x-python",
   "name": "python",
   "nbconvert_exporter": "python",
   "pygments_lexer": "ipython3",
   "version": "3.9.7"
  }
 },
 "nbformat": 4,
 "nbformat_minor": 5
}
